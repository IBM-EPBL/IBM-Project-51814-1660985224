{
 "cells": [
  {
   "cell_type": "code",
   "execution_count": 18,
   "id": "b902fb08",
   "metadata": {},
   "outputs": [],
   "source": [
    "import pandas as pd\n",
    "import numpy as np\n",
    "import matplotlib.pyplot as plt\n",
    "import seaborn as sns\n",
    "from sklearn.model_selection import train_test_split\n",
    "from sklearn.preprocessing import LabelEncoder\n",
    "from keras.models import Model\n",
    "from keras.layers import LSTM, Activation, Dense, Dropout, Input, Embedding\n",
    "from keras.optimizers import RMSprop\n",
    "from keras.preprocessing.text import Tokenizer\n",
    "from keras.preprocessing import sequence\n",
    "from keras.utils import to_categorical\n",
    "from keras.callbacks import EarlyStopping\n",
    "%matplotlib inline"
   ]
  },
  {
   "cell_type": "markdown",
   "id": "91bfc4e1",
   "metadata": {},
   "source": [
    "# Import the ImageDataGenerator library"
   ]
  },
  {
   "cell_type": "code",
   "execution_count": 4,
   "id": "dc0558ff",
   "metadata": {},
   "outputs": [],
   "source": [
    "from tensorflow.keras.preprocessing.image import ImageDataGenerator"
   ]
  },
  {
   "cell_type": "markdown",
   "id": "375fdb40",
   "metadata": {},
   "source": [
    "# Configure ImageDataGenerator class "
   ]
  },
  {
   "cell_type": "code",
   "execution_count": 5,
   "id": "f473847a",
   "metadata": {},
   "outputs": [],
   "source": [
    "train_datagen = ImageDataGenerator(rescale=1./255,\n",
    "                                   zoom_range=0.2, \n",
    "                                   horizontal_flip=True)\n",
    "test_datagen = ImageDataGenerator(rescale=1./255)"
   ]
  },
  {
   "cell_type": "markdown",
   "id": "935e43e0",
   "metadata": {},
   "source": [
    "# Apply ImageDataGenerator Functionality To Trainset And Testset"
   ]
  },
  {
   "cell_type": "code",
   "execution_count": 9,
   "id": "94dc75a4",
   "metadata": {},
   "outputs": [
    {
     "name": "stdout",
     "output_type": "stream",
     "text": [
      "Found 2626 images belonging to 5 classes.\n"
     ]
    }
   ],
   "source": [
    "xtrain = train_datagen.flow_from_directory('/Malan/IBM Stuff/Project and Design Phase/Data Set/Data Set/DATA SET',\n",
    "                                           target_size=(64,64),\n",
    "                                           class_mode='categorical',\n",
    "                                           batch_size=100)"
   ]
  },
  {
   "cell_type": "code",
   "execution_count": 10,
   "id": "0bd02718",
   "metadata": {},
   "outputs": [
    {
     "name": "stdout",
     "output_type": "stream",
     "text": [
      "Found 2626 images belonging to 5 classes.\n"
     ]
    }
   ],
   "source": [
    " xtest= test_datagen.flow_from_directory('/Malan/IBM Stuff/Project and Design Phase/Data Set/Data Set/DATA SET',\n",
    "                                         target_size=(64,64),\n",
    "                                         class_mode='categorical',\n",
    "                                         batch_size=100)"
   ]
  }
 ],
 "metadata": {
  "kernelspec": {
   "display_name": "Python 3 (ipykernel)",
   "language": "python",
   "name": "python3"
  },
  "language_info": {
   "codemirror_mode": {
    "name": "ipython",
    "version": 3
   },
   "file_extension": ".py",
   "mimetype": "text/x-python",
   "name": "python",
   "nbconvert_exporter": "python",
   "pygments_lexer": "ipython3",
   "version": "3.9.12"
  }
 },
 "nbformat": 4,
 "nbformat_minor": 5
}
